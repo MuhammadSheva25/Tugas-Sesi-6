{
 "cells": [
  {
   "cell_type": "code",
   "execution_count": null,
   "id": "743e9aae",
   "metadata": {},
   "outputs": [],
   "source": [
    "def cari_tarif(umur, tinggi):\n",
    "    tarif = 0\n",
    "    if umur < 2 and umur >= 0:\n",
    "        print('Dilarang masuk')\n",
    "    elif umur < 4 and umur >= 2:\n",
    "        if tinggi > 70:\n",
    "            tarif = 40_000\n",
    "        else:\n",
    "            tarif = 30_000\n",
    "    elif umur < 7 and umur >= 4: \n",
    "        if tinggi > 120:\n",
    "            tarif = 55_000\n",
    "        else:\n",
    "            tarif = 40_000\n",
    "    elif umur < 10 and umur >= 7:\n",
    "        if tinggi > 150:\n",
    "            tarif = 70_000\n",
    "        else:\n",
    "            tarif = 50_000\n",
    "    elif umur >= 10:\n",
    "        tarif = 80_000\n",
    "   \n",
    "    print('Tarif:', tarif)\n",
    "    \n",
    "\n",
    "# Untuk umur 5 tahun dan tinggi 156cm\n",
    "# Dikenakan tarif:\n",
    "cari_tarif(5, 156)"
   ]
  },
  {
   "cell_type": "code",
   "execution_count": 2,
   "id": "d79e06d3",
   "metadata": {},
   "outputs": [
    {
     "name": "stdout",
     "output_type": "stream",
     "text": [
      "\n",
      "        1. Lari\n",
      "        2. Push Up\n",
      "        3. Plank\n",
      "        \n",
      "\n",
      "        1. Lari\n",
      "        2. Push Up\n",
      "        3. Plank\n",
      "        \n",
      "\n",
      "        1. Lari\n",
      "        2. Push Up\n",
      "        3. Plank\n",
      "        \n",
      "60\n",
      "200\n",
      "60\n",
      "Kalori yang dikeluarkan: 320\n"
     ]
    }
   ],
   "source": [
    "def cari_kalori():\n",
    "    olahraga = {\n",
    "        'lari': {'kalori': 60, 'durasi': 5},\n",
    "        'push_up': {'kalori': 200, 'durasi': 30},\n",
    "        'plank': {'kalori': 5, 'durasi': 30}\n",
    "    }\n",
    "    \n",
    "    data = []\n",
    "    kalori = 0\n",
    "    \n",
    "    while True:\n",
    "        print(\"\"\"\n",
    "        1. Lari\n",
    "        2. Push Up\n",
    "        3. Plank\n",
    "        \"\"\")\n",
    "        \n",
    "        input_user = int(input('Pilih olahraga yang dilakukan: '))\n",
    "        is_break = input('Lanjutkan? y atau n ')\n",
    "        \n",
    "        if input_user == 1:\n",
    "            data.append('lari')\n",
    "        elif input_user == 2:\n",
    "            data.append('push_up')\n",
    "        else:\n",
    "            data.append('plank')\n",
    "            \n",
    "        if is_break.lower() == 'n':\n",
    "            break\n",
    "\n",
    "    \n",
    "    for d in data:\n",
    "        kal = olahraga.get(d)['kalori']\n",
    "        kalori += kal\n",
    "\n",
    "    \n",
    "    print(\"Kalori yang dikeluarkan:\", kalori)\n",
    "                       \n",
    "                \n",
    "cari_kalori()"
   ]
  }
 ],
 "metadata": {
  "kernelspec": {
   "display_name": "Python 3.10.8 64-bit",
   "language": "python",
   "name": "python3"
  },
  "language_info": {
   "codemirror_mode": {
    "name": "ipython",
    "version": 3
   },
   "file_extension": ".py",
   "mimetype": "text/x-python",
   "name": "python",
   "nbconvert_exporter": "python",
   "pygments_lexer": "ipython3",
   "version": "3.10.8"
  },
  "vscode": {
   "interpreter": {
    "hash": "50296e84756604d5d4c63fa8b3ee756592865dcdcfdc7ae7bf679c8b7e81ad70"
   }
  }
 },
 "nbformat": 4,
 "nbformat_minor": 5
}
